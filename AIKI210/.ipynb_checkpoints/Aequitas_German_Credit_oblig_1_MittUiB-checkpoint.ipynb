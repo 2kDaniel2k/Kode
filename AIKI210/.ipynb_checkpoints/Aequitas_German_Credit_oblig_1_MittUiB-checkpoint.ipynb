{
 "cells": [
  {
   "cell_type": "markdown",
   "metadata": {},
   "source": [
    "# German Credit Dataset analysis using Aequitas"
   ]
  },
  {
   "cell_type": "code",
   "execution_count": 1,
   "metadata": {
    "scrolled": true
   },
   "outputs": [
    {
     "name": "stdout",
     "output_type": "stream",
     "text": [
      "Collecting aequitas\n",
      "  Using cached aequitas-1.0.0-3-py3-none-any.whl (3.1 MB)\n",
      "\u001b[31mERROR: Package 'aequitas' requires a different Python: 3.7.6 not in '<3.12,>=3.8'\u001b[0m\n",
      "Note: you may need to restart the kernel to use updated packages.\n"
     ]
    }
   ],
   "source": [
    "pip install aequitas"
   ]
  },
  {
   "cell_type": "code",
   "execution_count": 2,
   "metadata": {},
   "outputs": [
    {
     "name": "stdout",
     "output_type": "stream",
     "text": [
      "Collecting aif360\n",
      "  Using cached aif360-0.6.1-py3-none-any.whl.metadata (5.0 kB)\n",
      "Requirement already satisfied: numpy>=1.16 in /Library/Frameworks/Python.framework/Versions/3.12/lib/python3.12/site-packages (from aif360) (2.1.1)\n",
      "Collecting scipy>=1.2.0 (from aif360)\n",
      "  Using cached scipy-1.14.1-cp312-cp312-macosx_14_0_x86_64.whl.metadata (60 kB)\n",
      "Requirement already satisfied: pandas>=0.24.0 in /Library/Frameworks/Python.framework/Versions/3.12/lib/python3.12/site-packages (from aif360) (2.2.2)\n",
      "Collecting scikit-learn>=1.0 (from aif360)\n",
      "  Downloading scikit_learn-1.5.2-cp312-cp312-macosx_10_9_x86_64.whl.metadata (13 kB)\n",
      "Requirement already satisfied: matplotlib in /Library/Frameworks/Python.framework/Versions/3.12/lib/python3.12/site-packages (from aif360) (3.9.2)\n",
      "Requirement already satisfied: python-dateutil>=2.8.2 in /Users/Dani/Library/Python/3.12/lib/python/site-packages (from pandas>=0.24.0->aif360) (2.9.0.post0)\n",
      "Requirement already satisfied: pytz>=2020.1 in /Library/Frameworks/Python.framework/Versions/3.12/lib/python3.12/site-packages (from pandas>=0.24.0->aif360) (2024.2)\n",
      "Requirement already satisfied: tzdata>=2022.7 in /Library/Frameworks/Python.framework/Versions/3.12/lib/python3.12/site-packages (from pandas>=0.24.0->aif360) (2024.1)\n",
      "Collecting joblib>=1.2.0 (from scikit-learn>=1.0->aif360)\n",
      "  Downloading joblib-1.4.2-py3-none-any.whl.metadata (5.4 kB)\n",
      "Collecting threadpoolctl>=3.1.0 (from scikit-learn>=1.0->aif360)\n",
      "  Downloading threadpoolctl-3.5.0-py3-none-any.whl.metadata (13 kB)\n",
      "Requirement already satisfied: contourpy>=1.0.1 in /Library/Frameworks/Python.framework/Versions/3.12/lib/python3.12/site-packages (from matplotlib->aif360) (1.3.0)\n",
      "Requirement already satisfied: cycler>=0.10 in /Library/Frameworks/Python.framework/Versions/3.12/lib/python3.12/site-packages (from matplotlib->aif360) (0.12.1)\n",
      "Requirement already satisfied: fonttools>=4.22.0 in /Library/Frameworks/Python.framework/Versions/3.12/lib/python3.12/site-packages (from matplotlib->aif360) (4.53.1)\n",
      "Requirement already satisfied: kiwisolver>=1.3.1 in /Library/Frameworks/Python.framework/Versions/3.12/lib/python3.12/site-packages (from matplotlib->aif360) (1.4.7)\n",
      "Requirement already satisfied: packaging>=20.0 in /Users/Dani/Library/Python/3.12/lib/python/site-packages (from matplotlib->aif360) (24.1)\n",
      "Requirement already satisfied: pillow>=8 in /Library/Frameworks/Python.framework/Versions/3.12/lib/python3.12/site-packages (from matplotlib->aif360) (10.4.0)\n",
      "Requirement already satisfied: pyparsing>=2.3.1 in /Library/Frameworks/Python.framework/Versions/3.12/lib/python3.12/site-packages (from matplotlib->aif360) (3.1.4)\n",
      "Requirement already satisfied: six>=1.5 in /Users/Dani/Library/Python/3.12/lib/python/site-packages (from python-dateutil>=2.8.2->pandas>=0.24.0->aif360) (1.16.0)\n",
      "Downloading aif360-0.6.1-py3-none-any.whl (259 kB)\n",
      "Downloading scikit_learn-1.5.2-cp312-cp312-macosx_10_9_x86_64.whl (12.1 MB)\n",
      "\u001b[2K   \u001b[90m━━━━━━━━━━━━━━━━━━━━━━━━━━━━━━━━━━━━━━━━\u001b[0m \u001b[32m12.1/12.1 MB\u001b[0m \u001b[31m10.0 MB/s\u001b[0m eta \u001b[36m0:00:00\u001b[0ma \u001b[36m0:00:01\u001b[0m\n",
      "\u001b[?25hDownloading scipy-1.14.1-cp312-cp312-macosx_14_0_x86_64.whl (25.6 MB)\n",
      "\u001b[2K   \u001b[90m━━━━━━━━━━━━━━━━━━━━━━━━━━━━━━━━━━━━━━━━\u001b[0m \u001b[32m25.6/25.6 MB\u001b[0m \u001b[31m10.2 MB/s\u001b[0m eta \u001b[36m0:00:00\u001b[0m00:01\u001b[0m00:01\u001b[0m\n",
      "\u001b[?25hDownloading joblib-1.4.2-py3-none-any.whl (301 kB)\n",
      "Downloading threadpoolctl-3.5.0-py3-none-any.whl (18 kB)\n",
      "Installing collected packages: threadpoolctl, scipy, joblib, scikit-learn, aif360\n",
      "Successfully installed aif360-0.6.1 joblib-1.4.2 scikit-learn-1.5.2 scipy-1.14.1 threadpoolctl-3.5.0\n",
      "Note: you may need to restart the kernel to use updated packages.\n"
     ]
    }
   ],
   "source": [
    "pip install aif360"
   ]
  },
  {
   "cell_type": "code",
   "execution_count": 3,
   "metadata": {},
   "outputs": [],
   "source": [
    "import pandas as pd\n",
    "import seaborn as sns\n",
    "from aequitas.group import Group\n",
    "from aequitas.bias import Bias\n",
    "from aequitas.fairness import Fairness\n",
    "from aequitas.plotting import Plot\n",
    "import aequitas.plot as ap\n",
    "\n",
    "# import warnings; warnings.simplefilter('ignore')\n",
    "\n",
    "%matplotlib inline"
   ]
  },
  {
   "cell_type": "code",
   "execution_count": 4,
   "metadata": {},
   "outputs": [
    {
     "name": "stdout",
     "output_type": "stream",
     "text": [
      "IOError: [Errno 2] No such file or directory: '/Library/Frameworks/Python.framework/Versions/3.12/lib/python3.12/site-packages/aif360/datasets/../data/raw/german/german.data'\n",
      "To use this class, please download the following files:\n",
      "\n",
      "\thttps://archive.ics.uci.edu/ml/machine-learning-databases/statlog/german/german.data\n",
      "\thttps://archive.ics.uci.edu/ml/machine-learning-databases/statlog/german/german.doc\n",
      "\n",
      "and place them, as-is, in the folder:\n",
      "\n",
      "\t/Library/Frameworks/Python.framework/Versions/3.12/lib/python3.12/site-packages/aif360/data/raw/german\n",
      "\n"
     ]
    },
    {
     "ename": "SystemExit",
     "evalue": "1",
     "output_type": "error",
     "traceback": [
      "An exception has occurred, use %tb to see the full traceback.\n",
      "\u001b[0;31mSystemExit\u001b[0m\u001b[0;31m:\u001b[0m 1\n"
     ]
    },
    {
     "name": "stderr",
     "output_type": "stream",
     "text": [
      "/Users/Dani/Library/Python/3.12/lib/python/site-packages/IPython/core/interactiveshell.py:3585: UserWarning: To exit: use 'exit', 'quit', or Ctrl-D.\n",
      "  warn(\"To exit: use 'exit', 'quit', or Ctrl-D.\", stacklevel=1)\n"
     ]
    }
   ],
   "source": [
    "## loading the dataset through API \n",
    "from aif360.datasets import GermanDataset\n",
    "\n",
    "german_dataset = GermanDataset()\n",
    "\n",
    "dfgerman = pd.DataFrame(german_dataset.convert_to_dataframe()[0])\n",
    "# remove labels\n",
    "dfgerman = dfgerman.drop(columns=german_dataset.label_names)\n",
    "dfgerman['label'] = tuple(german_dataset.labels[:, 0])\n",
    "\n",
    "dfgerman"
   ]
  },
  {
   "cell_type": "code",
   "execution_count": null,
   "metadata": {},
   "outputs": [],
   "source": [
    "## with Pandas\n",
    "## Point to the folder where you put the data file, like this:\n",
    "#filepath = \"C://Users//Sohail//.conda//envs//python_3_gpss//Lib//site-packages//aif360//data//raw//german//german.data\"\n",
    "\n",
    "\n",
    "column_names = ['status', 'month', 'credit_history',\n",
    "    'purpose', 'credit_amount', 'savings', 'employment',\n",
    "    'investment_as_income_percentage', 'personal_status',\n",
    "    'other_debtors', 'residence_since', 'property', 'age',\n",
    "    'installment_plans', 'housing', 'number_of_credits',\n",
    "    'skill_level', 'people_liable_for', 'telephone',\n",
    "    'foreign_worker', 'credit']\n",
    "na_values=[]\n",
    "\n",
    "german_df = pd.read_csv(filepath, sep=' ', header=None, names=column_names,\n",
    "                     na_values=na_values)\n",
    "german_df.shape"
   ]
  },
  {
   "cell_type": "code",
   "execution_count": null,
   "metadata": {},
   "outputs": [],
   "source": [
    "german_df.head()\n"
   ]
  },
  {
   "cell_type": "markdown",
   "metadata": {},
   "source": [
    "## Exploring the German Dataset"
   ]
  },
  {
   "cell_type": "code",
   "execution_count": null,
   "metadata": {},
   "outputs": [],
   "source": [
    "## mapping age 1 >=25\n",
    "german_df['age_mapped'] = german_df['age'].apply(lambda x: 'older' if x>=25 else 'younger')\n",
    "german_df.head()"
   ]
  },
  {
   "cell_type": "code",
   "execution_count": null,
   "metadata": {},
   "outputs": [],
   "source": [
    "by_age = sns.countplot(x=\"age_mapped\", hue=\"credit\", data=german_df, palette=\"bright\")\n"
   ]
  },
  {
   "cell_type": "code",
   "execution_count": null,
   "metadata": {},
   "outputs": [],
   "source": [
    "# A91 : male : divorced/separated\n",
    "# A92 : female : divorced/separated/married\n",
    "# A93 : male : single\n",
    "# A94 : male : married/widowed\n",
    "# A95 : female : single \n",
    "malecat = ['A91','A93','A94']\n",
    "german_df['sex_mapped'] = german_df['personal_status'].apply(lambda x: \"male\" if x in malecat else \"female\")\n",
    "\n",
    "by_sex = sns.countplot(x=\"sex_mapped\", hue=\"credit\", data=german_df, palette=\"bright\")"
   ]
  },
  {
   "cell_type": "markdown",
   "metadata": {},
   "source": [
    "## Using Aequitas to audit the dataset"
   ]
  },
  {
   "cell_type": "markdown",
   "metadata": {},
   "source": [
    "Before the dta can be used with aequitas it requies preprocessing The input dataframe must comtain score for labels and categories must be strings For detailed requirements check https://github.com/dssg/aequitas#input-data"
   ]
  },
  {
   "cell_type": "code",
   "execution_count": null,
   "metadata": {},
   "outputs": [],
   "source": [
    "german_df = german_df.rename(columns={'credit':'label_value'}) ## label is the machine original label value\n"
   ]
  },
  {
   "cell_type": "code",
   "execution_count": null,
   "metadata": {},
   "outputs": [],
   "source": [
    "#trying SVM\n",
    "from sklearn.ensemble import RandomForestClassifier\n",
    "from sklearn.svm import SVC\n",
    "from sklearn.pipeline import make_pipeline\n",
    "from sklearn.preprocessing import StandardScaler\n",
    "from sklearn.model_selection import train_test_split\n",
    "from sklearn.preprocessing import OneHotEncoder\n",
    "\n",
    "svcClf =  make_pipeline(StandardScaler(with_mean=False), SVC(gamma='auto'))\n",
    "\n",
    "german_x = german_df.drop('label_value',  axis=1)\n",
    "german_y = german_df['label_value']\n",
    "\n",
    "enc = OneHotEncoder(handle_unknown='ignore')\n",
    "enc.fit(german_x)\n",
    "german_x = enc.transform(german_x)\n",
    "\n",
    "german_x_train,german_x_test, german_y_train, german_y_test = train_test_split(german_x, german_y, test_size = 0.33)\n",
    "\n",
    "svcClf = svcClf.fit(german_x_train,german_y_train)\n",
    "\n",
    "svc_score = svcClf.predict(german_x)\n",
    "svcClf.score(german_x_test,german_y_test)"
   ]
  },
  {
   "cell_type": "code",
   "execution_count": null,
   "metadata": {},
   "outputs": [],
   "source": [
    "german_df['score'] = svc_score ## score is the machine learning scoring\n"
   ]
  },
  {
   "cell_type": "code",
   "execution_count": null,
   "metadata": {},
   "outputs": [],
   "source": [
    "german_df.dtypes\n"
   ]
  },
  {
   "cell_type": "code",
   "execution_count": null,
   "metadata": {},
   "outputs": [],
   "source": [
    "import aequitas.preprocessing \n",
    "# *input_data* matches CLI input data norms.\n",
    "processed_german_df, _ = aequitas.preprocessing.preprocess_input_df(german_df)"
   ]
  },
  {
   "cell_type": "code",
   "execution_count": null,
   "metadata": {},
   "outputs": [],
   "source": [
    "## ## Define Attributes to Audit and Reference Group for each Attribute \n",
    "attributes_and_reference_groups={'age_mapped':'older', 'sex_mapped':'male'}\n",
    "attributes_to_audit = list(attributes_and_reference_groups.keys())"
   ]
  },
  {
   "cell_type": "code",
   "execution_count": null,
   "metadata": {},
   "outputs": [],
   "source": [
    "#define the metrics\n",
    "metrics = ['fpr']\n",
    "disparity_tolerance = 1.30"
   ]
  },
  {
   "cell_type": "code",
   "execution_count": null,
   "metadata": {},
   "outputs": [],
   "source": [
    "processed_german_df"
   ]
  },
  {
   "cell_type": "code",
   "execution_count": null,
   "metadata": {},
   "outputs": [],
   "source": [
    "new_preprocessed_german = processed_german_df\n",
    "new_preprocessed_german['label_value'] = new_preprocessed_german['label_value'].replace(1,0)\n",
    "new_preprocessed_german['label_value'] = new_preprocessed_german['label_value'].replace(2,1)\n",
    "\n",
    "new_preprocessed_german['score'] = new_preprocessed_german['score'].replace(1,0)\n",
    "new_preprocessed_german['score'] = new_preprocessed_german['score'].replace(2,1)"
   ]
  },
  {
   "cell_type": "code",
   "execution_count": null,
   "metadata": {},
   "outputs": [],
   "source": [
    "## Running qequitas \n",
    "\n",
    "# Initialize Aequitas\n",
    "g = Group()\n",
    "b = Bias()\n",
    "\n",
    "# get_crosstabs returns a dataframe of the group counts and group value bias metrics.\n",
    "xtab, _ = g.get_crosstabs(new_preprocessed_german, attr_cols=attributes_to_audit)\n",
    "bdf = b.get_disparity_predefined_groups(xtab, original_df=new_preprocessed_german, ref_groups_dict=attributes_and_reference_groups)\n"
   ]
  },
  {
   "cell_type": "code",
   "execution_count": null,
   "metadata": {},
   "outputs": [],
   "source": [
    "absolute_metrics = g.list_absolute_metrics(xtab)"
   ]
  },
  {
   "cell_type": "code",
   "execution_count": null,
   "metadata": {},
   "outputs": [],
   "source": [
    "xtab[[col for col in xtab.columns if col not in absolute_metrics]]"
   ]
  },
  {
   "cell_type": "code",
   "execution_count": null,
   "metadata": {},
   "outputs": [],
   "source": [
    "xtab[['attribute_name', 'attribute_value'] + absolute_metrics].round(2)"
   ]
  },
  {
   "cell_type": "code",
   "execution_count": null,
   "metadata": {},
   "outputs": [],
   "source": [
    "bdf"
   ]
  },
  {
   "cell_type": "code",
   "execution_count": null,
   "metadata": {},
   "outputs": [],
   "source": [
    "bdf.style"
   ]
  },
  {
   "cell_type": "code",
   "execution_count": null,
   "metadata": {},
   "outputs": [],
   "source": [
    "calculated_disparities = b.list_disparities(bdf)"
   ]
  },
  {
   "cell_type": "code",
   "execution_count": null,
   "metadata": {},
   "outputs": [],
   "source": [
    "# View disparity metrics added to dataframe\n",
    "bdf[['attribute_name', 'attribute_value'] +  calculated_disparities]"
   ]
  },
  {
   "cell_type": "code",
   "execution_count": null,
   "metadata": {},
   "outputs": [],
   "source": [
    "bdf[['attribute_name', 'attribute_value'] +\n",
    "     b.list_disparities(bdf)].style"
   ]
  },
  {
   "cell_type": "code",
   "execution_count": null,
   "metadata": {},
   "outputs": [],
   "source": [
    "f = Fairness()"
   ]
  }
 ],
 "metadata": {
  "kernelspec": {
   "display_name": "Python 3",
   "language": "python",
   "name": "python3"
  },
  "language_info": {
   "codemirror_mode": {
    "name": "ipython",
    "version": 3
   },
   "file_extension": ".py",
   "mimetype": "text/x-python",
   "name": "python",
   "nbconvert_exporter": "python",
   "pygments_lexer": "ipython3",
   "version": "3.7.6"
  }
 },
 "nbformat": 4,
 "nbformat_minor": 5
}
